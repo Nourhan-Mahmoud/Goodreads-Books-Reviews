{
  "nbformat": 4,
  "nbformat_minor": 0,
  "metadata": {
    "colab": {
      "name": "Books Reviews Kaggle Competition .ipynb",
      "private_outputs": true,
      "provenance": [],
      "mount_file_id": "1RfaV1kswpybEp76O1TNN5mQsl6hk_72l",
      "authorship_tag": "ABX9TyMBnbIcsG3CnTzGxj2b3WlX",
      "include_colab_link": true
    },
    "kernelspec": {
      "name": "python3",
      "display_name": "Python 3"
    },
    "language_info": {
      "name": "python"
    }
  },
  "cells": [
    {
      "cell_type": "markdown",
      "metadata": {
        "id": "view-in-github",
        "colab_type": "text"
      },
      "source": [
        "<a href=\"https://colab.research.google.com/github/Nourhan-Mahmoud/Goodreads-Books-Reviews/blob/main/Books_Reviews_Kaggle_Competition_.ipynb\" target=\"_parent\"><img src=\"https://colab.research.google.com/assets/colab-badge.svg\" alt=\"Open In Colab\"/></a>"
      ]
    },
    {
      "cell_type": "markdown",
      "source": [
        "## Goodreads Books Reviews Notebook \n",
        "#####*Kaggle Competition*"
      ],
      "metadata": {
        "id": "i1rxHoSg75ib"
      }
    },
    {
      "cell_type": "code",
      "execution_count": null,
      "metadata": {
        "id": "sSPTUToVfu8f"
      },
      "outputs": [],
      "source": [
        "#import libraries\n",
        "import numpy as np\n",
        "import pandas as pd"
      ]
    },
    {
      "cell_type": "code",
      "source": [
        "#read data\n",
        "Data = pd.read_csv('/content/drive/MyDrive/BooksReviewsData/goodreads_train.csv')"
      ],
      "metadata": {
        "id": "qCGSx_YPjjuo"
      },
      "execution_count": null,
      "outputs": []
    },
    {
      "cell_type": "code",
      "source": [
        "Data.head()"
      ],
      "metadata": {
        "id": "5fcW3U_oj2Df"
      },
      "execution_count": null,
      "outputs": []
    },
    {
      "cell_type": "code",
      "source": [
        ""
      ],
      "metadata": {
        "id": "py9IhkFCj3rV"
      },
      "execution_count": null,
      "outputs": []
    }
  ]
}